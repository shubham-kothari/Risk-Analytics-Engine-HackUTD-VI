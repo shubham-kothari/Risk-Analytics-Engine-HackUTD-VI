{
 "cells": [
  {
   "cell_type": "markdown",
   "metadata": {},
   "source": [
    "## Importing the Libraries"
   ]
  },
  {
   "cell_type": "code",
   "execution_count": null,
   "metadata": {},
   "outputs": [],
   "source": [
    "import os\n",
    "import glob\n",
    "import pandas as pd\n",
    "import numpy as np\n",
    "\n",
    "import seaborn as sns\n",
    "import matplotlib.pyplot as plt\n",
    "%matplotlib inline"
   ]
  },
  {
   "cell_type": "markdown",
   "metadata": {},
   "source": [
    "#### Loading the raw loan acquisition txt file paths"
   ]
  },
  {
   "cell_type": "code",
   "execution_count": 22,
   "metadata": {},
   "outputs": [],
   "source": [
    "loan_acquisition_file = glob.glob(os.path.join(\"Raw_data/Acquisition*.txt\"))"
   ]
  },
  {
   "cell_type": "code",
   "execution_count": 23,
   "metadata": {},
   "outputs": [],
   "source": [
    "#loading as a dataframe and the concatenating the files\n",
    "\n",
    "df_from_each_file = (pd.read_csv(f,sep =\"|\", index_col=None, header=None) for f in loan_acquisition_file)\n",
    "df = pd.concat(df_from_each_file, ignore_index=True)"
   ]
  },
  {
   "cell_type": "code",
   "execution_count": 24,
   "metadata": {},
   "outputs": [],
   "source": [
    "#remaning the columns\n",
    "df.rename(columns={\n",
    "                    0: 'Loan_ID', 1: 'Channel', 2: 'Seller', 3: 'Interest_Rate', 4: 'UPB', 5: 'Loan_Term', \n",
    "                    6: 'Origination_Date', 7: 'First_Payment_Date', 8: 'LTV', 9: 'CLTV', 10: 'Num_Borrowers',\n",
    "                    11: 'DTI', 12: 'Borrower_FICO', 13: 'First_Time_Buyer', 14: 'Loan_Purpose', 15: 'Dwelling_Type', \n",
    "                    16: 'Unit_Count', 17: 'Occupancy', 18: 'State', 19: 'Zip', 20: 'Insurance%', 21: 'Product',\n",
    "                    22: 'Co_Borrower_FICO', 23: 'Mortgage_Insurance_Type',24: 'Relocation_Indicator'}, \n",
    "                    inplace=True)"
   ]
  },
  {
   "cell_type": "code",
   "execution_count": 25,
   "metadata": {},
   "outputs": [],
   "source": [
    "#saving the file locally\n",
    "df.to_csv('Acquisition_Q3_merged.csv',index=False)"
   ]
  },
  {
   "cell_type": "markdown",
   "metadata": {},
   "source": [
    "#### Loading the raw loan performance txt file paths\n"
   ]
  },
  {
   "cell_type": "code",
   "execution_count": 26,
   "metadata": {},
   "outputs": [],
   "source": [
    "\n",
    "loan_performance_file = glob.glob(os.path.join( \"Raw_data/Performance_*.txt\"))"
   ]
  },
  {
   "cell_type": "code",
   "execution_count": 27,
   "metadata": {},
   "outputs": [],
   "source": [
    "# preprocessing function which take the latest loan_id row\n",
    "\n",
    "def processing(df):\n",
    "\n",
    "    df['MONTHLY  REPORTING  PERIOD'] = df['MONTHLY  REPORTING  PERIOD'].apply(str).str[6:].apply(int)*100+df['MONTHLY  REPORTING  PERIOD'].apply(str).str[:2].apply(int)\n",
    "\n",
    "    idx = df.groupby(['LOAN IDENTIFIER'])['MONTHLY  REPORTING  PERIOD'].transform(max) == df['MONTHLY  REPORTING  PERIOD']\n",
    "\n",
    "    df = df[idx].copy()\n",
    "    \n",
    "    return df\n"
   ]
  },
  {
   "cell_type": "code",
   "execution_count": null,
   "metadata": {},
   "outputs": [],
   "source": [
    "#loading as a dataframe, preprocess it an then finally save it as a csv files.\n",
    "\n",
    "for file in loan_performance_file:\n",
    "    cols = ['LOAN IDENTIFIER', 'MONTHLY  REPORTING  PERIOD', 'SERVICER  NAME', 'currIntRate', 'CURRENT  ACTUAL  UPB',\n",
    "            'LOAN AGE', 'REMAINING  MONTHS  TO  LEGAL MATURITY', 'ADJUSTED  MONTHS  TO  MATURITY', 'MATURITY  DATE', \n",
    "            'METROPOLITAN  STATISTICAL  AREA  (MSA)', 'CURRENT  LOAN  DELINQUENCY  STATUS', 'MODIFICATION  FLAG',\n",
    "            'ZERO BALANCE CODE', 'ZERO  BALANCE  EFFECTIVE  DATE', 'LAST PAID INSTALLMENT  DATE', 'FORECLOSURE  DATE',\n",
    "            'DISPOSITION  DATE', 'FORECLOSURE  COSTS', 'PROPERTY  PRESERVATION  AND REPAIR  COSTS', 'ASSET  RECOVERY  COSTS',\n",
    "            'MISCELLANEOUS  HOLDING EXPENSES  AND  CREDITS' , 'ASSOCIATED  TAXES  FOR HOLDING PROPERTY', 'NET  SALE PROCEEDS',\n",
    "            'CREDIT ENHANCEMENT   PROCEEDS', 'REPURCHASE  MAKE  WHOLE  PROCEEDS', 'OTHER  FORECLOSURE  PROCEEDS', \n",
    "            'NON  INTEREST  BEARING  UPB', 'PRINCIPAL FORGIVENESS   AMOUNT', 'REPURCHASE  MAKE  WHOLE  PROCEEDS  FLAG',\n",
    "            'FORECLOSURE  PRINCIPAL WRITE-OFF  AMOUNT', 'SERVICING  ACTIVITY  INDICATOR']\n",
    "    \n",
    "    df = pd.read_csv(file, sep='|', index_col=None, header=None, names=cols)  \n",
    "    df = processing(df)\n",
    "    file_name = file.split('.')[0] + '_processed.csv'\n",
    "    df.to_csv(file_name,index=False)    "
   ]
  },
  {
   "cell_type": "markdown",
   "metadata": {},
   "source": [
    "#### Loading the preprocessed raw loan performance csv file paths\n"
   ]
  },
  {
   "cell_type": "code",
   "execution_count": 29,
   "metadata": {},
   "outputs": [],
   "source": [
    "loan_performance_file = glob.glob(os.path.join( \"raw_data/Performance_*.csv\"))"
   ]
  },
  {
   "cell_type": "code",
   "execution_count": 30,
   "metadata": {},
   "outputs": [
    {
     "name": "stderr",
     "output_type": "stream",
     "text": [
      "C:\\ProgramData\\Anaconda3\\lib\\site-packages\\ipykernel_launcher.py:2: DtypeWarning: Columns (14,15,16) have mixed types. Specify dtype option on import or set low_memory=False.\n",
      "  \n"
     ]
    }
   ],
   "source": [
    "#loading as a dataframe and the concatenating the files\n",
    "\n",
    "df_from_each_file = (pd.read_csv(f) for f in loan_performance_file)\n",
    "perf_df   = pd.concat(df_from_each_file, ignore_index=True)\n",
    "perf_df.to_csv('Performace_Q3_merged.csv',index=False)"
   ]
  },
  {
   "cell_type": "markdown",
   "metadata": {},
   "source": [
    "## Merging the loan performace and acquisition file"
   ]
  },
  {
   "cell_type": "code",
   "execution_count": 75,
   "metadata": {},
   "outputs": [],
   "source": [
    "perf_merged, acq_merged = pd.read_csv('Performace_Q3_merged.csv'), pd.read_csv('Acquisition_Q3_merged.csv')"
   ]
  },
  {
   "cell_type": "code",
   "execution_count": 76,
   "metadata": {},
   "outputs": [],
   "source": [
    "\n",
    "loan_data = acq_merged.merge(perf_merged , left_on='Loan_ID', right_on='LOAN IDENTIFIER', how='inner')\n",
    "loan_data.drop('LOAN IDENTIFIER',inplace=True,axis=1)\n",
    "loan_data.to_csv('load_data_Q3.csv',index=False)"
   ]
  },
  {
   "cell_type": "code",
   "execution_count": 153,
   "metadata": {},
   "outputs": [
    {
     "name": "stderr",
     "output_type": "stream",
     "text": [
      "C:\\ProgramData\\Anaconda3\\lib\\site-packages\\IPython\\core\\interactiveshell.py:3058: DtypeWarning: Columns (38,39,40) have mixed types. Specify dtype option on import or set low_memory=False.\n",
      "  interactivity=interactivity, compiler=compiler, result=result)\n"
     ]
    }
   ],
   "source": [
    "loan_data = pd.read_csv('load_data_Q3.csv')"
   ]
  },
  {
   "cell_type": "code",
   "execution_count": 157,
   "metadata": {},
   "outputs": [],
   "source": [
    "#mapping the zero code balance into three categories under current_status column\n",
    "\n",
    "loan_data['ZERO BALANCE CODE'].fillna(0,inplace=True)\n",
    "\n",
    "zero_bal_cd_map = {0:'Current',1:'Prepaid',2:'Third Party Sale',3:'Short Sale',\n",
    "                   6:'Repurchase',9:'REO',15:'Note Sale',16:'RPL Loan Sale'}\n",
    "\n",
    "loan_data['ZERO BALANCE CODE'] = loan_data['ZERO BALANCE CODE'].map(zero_bal_cd_map).apply(str)\n",
    "\n",
    "zero_bal_cd_map = {'Current':'Current','Prepaid':'Prepaid','Third Party Sale':'Underperforming','Short Sale':'Underperforming',\n",
    "                   'Repurchase':'Underperforming','REO':'Underperforming','Note Sale':'Underperforming','RPL Loan Sale':'Underperforming'}\n",
    "\n",
    "loan_data['Current_Status'] = loan_data['ZERO BALANCE CODE'].map(zero_bal_cd_map).apply(str)"
   ]
  },
  {
   "cell_type": "code",
   "execution_count": 158,
   "metadata": {},
   "outputs": [],
   "source": [
    "#filling up the null values\n",
    "\n",
    "loan_data['Mortgage_Insurance_Type'].fillna(0,inplace=True)\n",
    "loan_data['Insurance%'].fillna(0,inplace=True)\n",
    "loan_data['Num_Borrowers'].fillna(1,inplace=True)\n",
    "loan_data['CLTV'].fillna(loan_data['LTV'],inplace=True)\n",
    "#loan_data.drop('Co_Borrower_FICO',axis=1,inplace=True)"
   ]
  },
  {
   "cell_type": "code",
   "execution_count": 159,
   "metadata": {},
   "outputs": [],
   "source": [
    "#Binning the fico score and loan term\n",
    "\n",
    "FICO_bins = [0,620,660,700,740,780,850]\n",
    "FICO_labels = ['0-620', '620-660','660-700','700-740','740-780','780+']\n",
    "loan_data['FICO_bins'] = pd.cut(loan_data['Borrower_FICO'],bins=FICO_bins,labels=FICO_labels)\n",
    "\n",
    "Term_bins =[0,180,360]\n",
    "Term_labels =['<=15 Years','<= 30 Years']\n",
    "loan_data['Term_bins'] = pd.cut(loan_data['Loan_Term'],bins=Term_bins,labels=Term_labels)\n",
    "\n",
    "#loan_data.drop(['Borrower_FICO','Loan_Term'],inplace=True,axis=1)"
   ]
  },
  {
   "cell_type": "code",
   "execution_count": 160,
   "metadata": {},
   "outputs": [],
   "source": [
    "#filling the loan delinquency and forclosure date\n",
    "\n",
    "loan_data['FORECLOSURE  DATE'].fillna(-1,inplace=True)\n",
    "loan_data['CURRENT  LOAN  DELINQUENCY  STATUS'] = loan_data['CURRENT  LOAN  DELINQUENCY  STATUS'].replace(np.NaN,0)\n",
    "loan_data['CURRENT  LOAN  DELINQUENCY  STATUS'] = loan_data['CURRENT  LOAN  DELINQUENCY  STATUS'].replace('X',-1)\n",
    "loan_data['CURRENT  LOAN  DELINQUENCY  STATUS'] = loan_data['CURRENT  LOAN  DELINQUENCY  STATUS'].astype('int64')"
   ]
  },
  {
   "cell_type": "code",
   "execution_count": 161,
   "metadata": {},
   "outputs": [],
   "source": [
    "def code_delinq(value):\n",
    "    \n",
    "    if (int(value)<30):\n",
    "        value = 0\n",
    "    \n",
    "    if (int(value) >= 30 and int(value) <= 89):\n",
    "        value = 1\n",
    "        \n",
    "    if (int(value) > 89):\n",
    "        value = 2\n",
    "        \n",
    "    return value\n",
    "\n",
    "loan_data['CurrentLoanDeliquencyStatus_map'] = loan_data['CURRENT  LOAN  DELINQUENCY  STATUS'].apply(code_delinq)\n"
   ]
  },
  {
   "cell_type": "code",
   "execution_count": 162,
   "metadata": {},
   "outputs": [],
   "source": [
    "#mapping the CurrentLoanDeliquencyStatus into three categories under CurrentLoanDeliquencyStatus_map column\n",
    "CurrentLoanDeliquencyStatus_map = {0:'low',1:'Moderate',2:'High'}\n",
    "\n",
    "loan_data['CurrentLoanDeliquencyStatus_map'] = loan_data['CurrentLoanDeliquencyStatus_map'].map(CurrentLoanDeliquencyStatus_map).apply(str)"
   ]
  },
  {
   "cell_type": "code",
   "execution_count": 163,
   "metadata": {},
   "outputs": [
    {
     "data": {
      "text/plain": [
       "low         2081316\n",
       "Moderate        188\n",
       "High             62\n",
       "Name: CurrentLoanDeliquencyStatus_map, dtype: int64"
      ]
     },
     "execution_count": 163,
     "metadata": {},
     "output_type": "execute_result"
    }
   ],
   "source": [
    "loan_data['CurrentLoanDeliquencyStatus_map'].value_counts()"
   ]
  },
  {
   "cell_type": "code",
   "execution_count": 164,
   "metadata": {},
   "outputs": [
    {
     "data": {
      "text/plain": [
       "Prepaid            1096625\n",
       "Current             949530\n",
       "Underperforming      35411\n",
       "Name: Current_Status, dtype: int64"
      ]
     },
     "execution_count": 164,
     "metadata": {},
     "output_type": "execute_result"
    }
   ],
   "source": [
    "loan_data['Current_Status'].value_counts()"
   ]
  },
  {
   "cell_type": "code",
   "execution_count": 165,
   "metadata": {},
   "outputs": [
    {
     "data": {
      "text/plain": [
       "-1            2053662\n",
       "09/01/2010        526\n",
       "07/01/2010        504\n",
       "06/01/2010        482\n",
       "08/01/2010        480\n",
       "               ...   \n",
       "01/01/2009          8\n",
       "03/01/2005          7\n",
       "01/01/2005          2\n",
       "02/01/2005          2\n",
       "12/01/2004          1\n",
       "Name: FORECLOSURE  DATE, Length: 176, dtype: int64"
      ]
     },
     "execution_count": 165,
     "metadata": {},
     "output_type": "execute_result"
    }
   ],
   "source": [
    "loan_data['FORECLOSURE  DATE'].value_counts()"
   ]
  },
  {
   "cell_type": "code",
   "execution_count": 166,
   "metadata": {},
   "outputs": [],
   "source": [
    "zero_bal_cd_map = {0:'Current',1:'Prepaid',2:'Third Party Sale',3:'Short Sale',\n",
    "                   6:'Repurchase',9:'REO',15:'Note Sale',16:'RPL Loan Sale'}\n",
    "\n",
    "zero_bal_cd_map_ = {'Current':'Current','Prepaid':'Prepaid','Third Party Sale':'Underperforming','Short Sale':'Underperforming',\n",
    "                   'Repurchase':'Underperforming','REO':'Underperforming','Note Sale':'Underperforming','RPL Loan Sale':'Underperforming'}"
   ]
  },
  {
   "cell_type": "code",
   "execution_count": 167,
   "metadata": {},
   "outputs": [],
   "source": [
    "def target(currentstatus,Delinquent_Ind,Foreclosure_Ind):\n",
    "    if(Foreclosure_Ind!=-1):\n",
    "        val='High-Risk'\n",
    "    elif (currentstatus=='Current' and Delinquent_Ind=='High') or (currentstatus =='Underperforming'):\n",
    "        val='High-Risk'\n",
    "    elif (currentstatus=='Current' and Delinquent_Ind=='Moderate') or (currentstatus=='Prepaid'):\n",
    "        val='Moderate-Risk'\n",
    "    else:\n",
    "        val='No-Risk'\n",
    "        \n",
    "    return val"
   ]
  },
  {
   "cell_type": "code",
   "execution_count": 168,
   "metadata": {},
   "outputs": [],
   "source": [
    "loan_data['target'] = loan_data.apply(lambda row: target(row['Current_Status'], row['CURRENT  LOAN  DELINQUENCY  STATUS'],\n",
    "                                               row['FORECLOSURE  DATE']), axis=1)\n"
   ]
  },
  {
   "cell_type": "code",
   "execution_count": 169,
   "metadata": {},
   "outputs": [
    {
     "data": {
      "text/plain": [
       "Moderate-Risk    1096625\n",
       "No-Risk           949530\n",
       "High-Risk          35411\n",
       "Name: target, dtype: int64"
      ]
     },
     "execution_count": 169,
     "metadata": {},
     "output_type": "execute_result"
    }
   ],
   "source": [
    "loan_data['target'].value_counts()"
   ]
  },
  {
   "cell_type": "code",
   "execution_count": 170,
   "metadata": {},
   "outputs": [
    {
     "data": {
      "text/plain": [
       "Moderate-Risk    1096625\n",
       "No-Risk           949530\n",
       "High-Risk          35411\n",
       "Name: target, dtype: int64"
      ]
     },
     "execution_count": 170,
     "metadata": {},
     "output_type": "execute_result"
    }
   ],
   "source": [
    "loan_data['target'].value_counts()"
   ]
  },
  {
   "cell_type": "code",
   "execution_count": 171,
   "metadata": {},
   "outputs": [],
   "source": [
    "loan_data['Origin_Month'], loan_data['Origin_Year'] = loan_data['First_Payment_Date'].str.split('/', 1).str\n",
    "\n",
    "loan_data = loan_data[loan_data['Origin_Year'].isin(['2004','2008','2012','2016'])]"
   ]
  },
  {
   "cell_type": "code",
   "execution_count": 172,
   "metadata": {},
   "outputs": [],
   "source": [
    "loan_data.to_csv('processed_loan_origin.csv',index=False)"
   ]
  },
  {
   "cell_type": "code",
   "execution_count": 174,
   "metadata": {},
   "outputs": [
    {
     "name": "stderr",
     "output_type": "stream",
     "text": [
      "C:\\ProgramData\\Anaconda3\\lib\\site-packages\\IPython\\core\\interactiveshell.py:3058: DtypeWarning: Columns (40) have mixed types. Specify dtype option on import or set low_memory=False.\n",
      "  interactivity=interactivity, compiler=compiler, result=result)\n"
     ]
    }
   ],
   "source": [
    "loan_data = pd.read_csv('processed_loan_origin.csv')"
   ]
  },
  {
   "cell_type": "code",
   "execution_count": 230,
   "metadata": {},
   "outputs": [],
   "source": [
    "summary = {'Loan_ID':'count',\n",
    "     'UPB':\"mean\",\n",
    "     'Borrower_FICO': 'mean',\n",
    "     'Co_Borrower_FICO': 'mean',\n",
    "     'LTV': 'mean',\n",
    "     'CLTV': 'mean',\n",
    "     'DTI': 'mean',\n",
    "     'Interest_Rate': 'mean'}\n",
    "\n",
    "expenses = {'FORECLOSURE  COSTS':'mean',\n",
    "'PROPERTY  PRESERVATION  AND REPAIR  COSTS':'mean',\n",
    "'ASSET  RECOVERY  COSTS':'mean',\n",
    "'MISCELLANEOUS  HOLDING EXPENSES  AND  CREDITS':'mean',\n",
    "'ASSOCIATED  TAXES  FOR HOLDING PROPERTY':'mean'}\n",
    "\n",
    "proceeds = {'NET  SALE PROCEEDS':'mean',\n",
    "'CREDIT ENHANCEMENT   PROCEEDS':'mean',\n",
    "'REPURCHASE  MAKE  WHOLE  PROCEEDS':'mean',\n",
    "'OTHER  FORECLOSURE  PROCEEDS':'mean',\n",
    "'OTHER  FORECLOSURE  PROCEEDS':'mean'}"
   ]
  },
  {
   "cell_type": "code",
   "execution_count": 231,
   "metadata": {
    "scrolled": false
   },
   "outputs": [],
   "source": [
    "acq_summary = loan_data.groupby(['Origin_Year']).agg(summary).round(2)\n",
    "acq_summary.index.name = ['Year_Q3']\n",
    "acq_summary.columns = ['Loan Count', 'Average Unpaid Balance', 'Borrower Credit Score', 'Co-Borrower Credit Score', 'LTV Ratio', 'CLTV Ratio', 'DTI', 'Interest Rate']\n"
   ]
  },
  {
   "cell_type": "code",
   "execution_count": 232,
   "metadata": {},
   "outputs": [],
   "source": [
    "exp_summaray = loan_data.groupby(['Origin_Year']).agg(expenses).round(2)\n",
    "exp_summaray.index.name = ['Year_Q3']\n",
    "exp_summaray.columns = ['Avg. Foreclosure  Cost', 'Avg. Property Preservation', 'Avg. Asset Recovery ', 'Avg. Misc. Holding Expenses/Credits', 'Avg. Associated Taxes']\n"
   ]
  },
  {
   "cell_type": "code",
   "execution_count": 233,
   "metadata": {},
   "outputs": [],
   "source": [
    "proc_summary = loan_data.groupby(['Origin_Year']).agg(proceeds).round(2)\n",
    "proc_summary.index.name = ['Year_Q3']\n",
    "proc_summary.columns = ['Avg. Net Sales Proceeds', 'Avg. Credit Enhancement', 'Avg . Repurchase/Make Whole ', 'Avg. Other Proceeds']\n"
   ]
  },
  {
   "cell_type": "code",
   "execution_count": 279,
   "metadata": {},
   "outputs": [],
   "source": [
    "status_summary = loan_data.groupby(['Origin_Year','Current_Status']).agg({'Loan_ID':'count'})\n",
    "\n",
    "status_summary = status_summary.reset_index()\n",
    "status_summary.columns = ['[Year_Q3]','Loan Status','Loan Count']\n",
    "status_summary = status_summary.groupby(['[Year_Q3]','Loan Status']).sum()"
   ]
  },
  {
   "cell_type": "code",
   "execution_count": 280,
   "metadata": {},
   "outputs": [],
   "source": [
    "modifi_summary = loan_data.groupby(['Origin_Year','MODIFICATION  FLAG']).agg({'Loan_ID':'count'})\n",
    "\n",
    "modifi_summary = modifi_summary.reset_index()\n",
    "\n",
    "modifi_summary.columns = ['[Year_Q3]','Modification Flag','Flag Count']\n",
    "modifi_summary = modifi_summary.groupby(['[Year_Q3]','Modification Flag']).sum()\n"
   ]
  },
  {
   "cell_type": "code",
   "execution_count": 281,
   "metadata": {},
   "outputs": [
    {
     "data": {
      "text/html": [
       "<div>\n",
       "<style scoped>\n",
       "    .dataframe tbody tr th:only-of-type {\n",
       "        vertical-align: middle;\n",
       "    }\n",
       "\n",
       "    .dataframe tbody tr th {\n",
       "        vertical-align: top;\n",
       "    }\n",
       "\n",
       "    .dataframe thead th {\n",
       "        text-align: right;\n",
       "    }\n",
       "</style>\n",
       "<table border=\"1\" class=\"dataframe\">\n",
       "  <thead>\n",
       "    <tr style=\"text-align: right;\">\n",
       "      <th></th>\n",
       "      <th>Loan Count</th>\n",
       "      <th>Average Unpaid Balance</th>\n",
       "      <th>Borrower Credit Score</th>\n",
       "      <th>Co-Borrower Credit Score</th>\n",
       "      <th>LTV Ratio</th>\n",
       "      <th>CLTV Ratio</th>\n",
       "      <th>DTI</th>\n",
       "      <th>Interest Rate</th>\n",
       "    </tr>\n",
       "    <tr>\n",
       "      <th>[Year_Q3]</th>\n",
       "      <th></th>\n",
       "      <th></th>\n",
       "      <th></th>\n",
       "      <th></th>\n",
       "      <th></th>\n",
       "      <th></th>\n",
       "      <th></th>\n",
       "      <th></th>\n",
       "    </tr>\n",
       "  </thead>\n",
       "  <tbody>\n",
       "    <tr>\n",
       "      <td>2004</td>\n",
       "      <td>384600</td>\n",
       "      <td>153335.04</td>\n",
       "      <td>719.75</td>\n",
       "      <td>727.34</td>\n",
       "      <td>70.01</td>\n",
       "      <td>71.37</td>\n",
       "      <td>36.03</td>\n",
       "      <td>6.02</td>\n",
       "    </tr>\n",
       "    <tr>\n",
       "      <td>2008</td>\n",
       "      <td>352362</td>\n",
       "      <td>208150.30</td>\n",
       "      <td>741.05</td>\n",
       "      <td>750.33</td>\n",
       "      <td>72.44</td>\n",
       "      <td>73.44</td>\n",
       "      <td>38.10</td>\n",
       "      <td>6.30</td>\n",
       "    </tr>\n",
       "    <tr>\n",
       "      <td>2012</td>\n",
       "      <td>715201</td>\n",
       "      <td>229735.46</td>\n",
       "      <td>770.49</td>\n",
       "      <td>775.58</td>\n",
       "      <td>69.07</td>\n",
       "      <td>70.05</td>\n",
       "      <td>30.70</td>\n",
       "      <td>3.65</td>\n",
       "    </tr>\n",
       "    <tr>\n",
       "      <td>2016</td>\n",
       "      <td>623054</td>\n",
       "      <td>236064.10</td>\n",
       "      <td>757.61</td>\n",
       "      <td>763.96</td>\n",
       "      <td>72.98</td>\n",
       "      <td>73.50</td>\n",
       "      <td>32.79</td>\n",
       "      <td>3.66</td>\n",
       "    </tr>\n",
       "  </tbody>\n",
       "</table>\n",
       "</div>"
      ],
      "text/plain": [
       "           Loan Count  Average Unpaid Balance  Borrower Credit Score  \\\n",
       "[Year_Q3]                                                              \n",
       "2004           384600               153335.04                 719.75   \n",
       "2008           352362               208150.30                 741.05   \n",
       "2012           715201               229735.46                 770.49   \n",
       "2016           623054               236064.10                 757.61   \n",
       "\n",
       "           Co-Borrower Credit Score  LTV Ratio  CLTV Ratio    DTI  \\\n",
       "[Year_Q3]                                                           \n",
       "2004                         727.34      70.01       71.37  36.03   \n",
       "2008                         750.33      72.44       73.44  38.10   \n",
       "2012                         775.58      69.07       70.05  30.70   \n",
       "2016                         763.96      72.98       73.50  32.79   \n",
       "\n",
       "           Interest Rate  \n",
       "[Year_Q3]                 \n",
       "2004                6.02  \n",
       "2008                6.30  \n",
       "2012                3.65  \n",
       "2016                3.66  "
      ]
     },
     "execution_count": 281,
     "metadata": {},
     "output_type": "execute_result"
    }
   ],
   "source": [
    "acq_summary"
   ]
  },
  {
   "cell_type": "code",
   "execution_count": 282,
   "metadata": {},
   "outputs": [
    {
     "data": {
      "text/html": [
       "<div>\n",
       "<style scoped>\n",
       "    .dataframe tbody tr th:only-of-type {\n",
       "        vertical-align: middle;\n",
       "    }\n",
       "\n",
       "    .dataframe tbody tr th {\n",
       "        vertical-align: top;\n",
       "    }\n",
       "\n",
       "    .dataframe thead th {\n",
       "        text-align: right;\n",
       "    }\n",
       "</style>\n",
       "<table border=\"1\" class=\"dataframe\">\n",
       "  <thead>\n",
       "    <tr style=\"text-align: right;\">\n",
       "      <th></th>\n",
       "      <th>Avg. Foreclosure  Cost</th>\n",
       "      <th>Avg. Property Preservation</th>\n",
       "      <th>Avg. Asset Recovery</th>\n",
       "      <th>Avg. Misc. Holding Expenses/Credits</th>\n",
       "      <th>Avg. Associated Taxes</th>\n",
       "    </tr>\n",
       "    <tr>\n",
       "      <th>[Year_Q3]</th>\n",
       "      <th></th>\n",
       "      <th></th>\n",
       "      <th></th>\n",
       "      <th></th>\n",
       "      <th></th>\n",
       "    </tr>\n",
       "  </thead>\n",
       "  <tbody>\n",
       "    <tr>\n",
       "      <td>2004</td>\n",
       "      <td>5662.29</td>\n",
       "      <td>5284.41</td>\n",
       "      <td>1525.38</td>\n",
       "      <td>1790.74</td>\n",
       "      <td>5431.05</td>\n",
       "    </tr>\n",
       "    <tr>\n",
       "      <td>2008</td>\n",
       "      <td>5696.84</td>\n",
       "      <td>6127.33</td>\n",
       "      <td>1708.71</td>\n",
       "      <td>2119.50</td>\n",
       "      <td>6407.52</td>\n",
       "    </tr>\n",
       "    <tr>\n",
       "      <td>2012</td>\n",
       "      <td>6171.62</td>\n",
       "      <td>8061.31</td>\n",
       "      <td>2209.89</td>\n",
       "      <td>1455.22</td>\n",
       "      <td>5263.31</td>\n",
       "    </tr>\n",
       "    <tr>\n",
       "      <td>2016</td>\n",
       "      <td>5376.64</td>\n",
       "      <td>6549.92</td>\n",
       "      <td>2134.00</td>\n",
       "      <td>1401.99</td>\n",
       "      <td>2840.58</td>\n",
       "    </tr>\n",
       "  </tbody>\n",
       "</table>\n",
       "</div>"
      ],
      "text/plain": [
       "           Avg. Foreclosure  Cost  Avg. Property Preservation  \\\n",
       "[Year_Q3]                                                       \n",
       "2004                      5662.29                     5284.41   \n",
       "2008                      5696.84                     6127.33   \n",
       "2012                      6171.62                     8061.31   \n",
       "2016                      5376.64                     6549.92   \n",
       "\n",
       "           Avg. Asset Recovery   Avg. Misc. Holding Expenses/Credits  \\\n",
       "[Year_Q3]                                                              \n",
       "2004                    1525.38                              1790.74   \n",
       "2008                    1708.71                              2119.50   \n",
       "2012                    2209.89                              1455.22   \n",
       "2016                    2134.00                              1401.99   \n",
       "\n",
       "           Avg. Associated Taxes  \n",
       "[Year_Q3]                         \n",
       "2004                     5431.05  \n",
       "2008                     6407.52  \n",
       "2012                     5263.31  \n",
       "2016                     2840.58  "
      ]
     },
     "execution_count": 282,
     "metadata": {},
     "output_type": "execute_result"
    }
   ],
   "source": [
    "exp_summaray"
   ]
  },
  {
   "cell_type": "code",
   "execution_count": 283,
   "metadata": {},
   "outputs": [
    {
     "data": {
      "text/html": [
       "<div>\n",
       "<style scoped>\n",
       "    .dataframe tbody tr th:only-of-type {\n",
       "        vertical-align: middle;\n",
       "    }\n",
       "\n",
       "    .dataframe tbody tr th {\n",
       "        vertical-align: top;\n",
       "    }\n",
       "\n",
       "    .dataframe thead th {\n",
       "        text-align: right;\n",
       "    }\n",
       "</style>\n",
       "<table border=\"1\" class=\"dataframe\">\n",
       "  <thead>\n",
       "    <tr style=\"text-align: right;\">\n",
       "      <th></th>\n",
       "      <th>Avg. Net Sales Proceeds</th>\n",
       "      <th>Avg. Credit Enhancement</th>\n",
       "      <th>Avg . Repurchase/Make Whole</th>\n",
       "      <th>Avg. Other Proceeds</th>\n",
       "    </tr>\n",
       "    <tr>\n",
       "      <th>[Year_Q3]</th>\n",
       "      <th></th>\n",
       "      <th></th>\n",
       "      <th></th>\n",
       "      <th></th>\n",
       "    </tr>\n",
       "  </thead>\n",
       "  <tbody>\n",
       "    <tr>\n",
       "      <td>2004</td>\n",
       "      <td>92193.51</td>\n",
       "      <td>34970.34</td>\n",
       "      <td>68484.45</td>\n",
       "      <td>5287.44</td>\n",
       "    </tr>\n",
       "    <tr>\n",
       "      <td>2008</td>\n",
       "      <td>124223.85</td>\n",
       "      <td>49609.77</td>\n",
       "      <td>131980.17</td>\n",
       "      <td>4851.51</td>\n",
       "    </tr>\n",
       "    <tr>\n",
       "      <td>2012</td>\n",
       "      <td>129173.91</td>\n",
       "      <td>44422.67</td>\n",
       "      <td>153919.16</td>\n",
       "      <td>6517.94</td>\n",
       "    </tr>\n",
       "    <tr>\n",
       "      <td>2016</td>\n",
       "      <td>151865.99</td>\n",
       "      <td>31239.89</td>\n",
       "      <td>12477.67</td>\n",
       "      <td>4569.47</td>\n",
       "    </tr>\n",
       "  </tbody>\n",
       "</table>\n",
       "</div>"
      ],
      "text/plain": [
       "           Avg. Net Sales Proceeds  Avg. Credit Enhancement  \\\n",
       "[Year_Q3]                                                     \n",
       "2004                      92193.51                 34970.34   \n",
       "2008                     124223.85                 49609.77   \n",
       "2012                     129173.91                 44422.67   \n",
       "2016                     151865.99                 31239.89   \n",
       "\n",
       "           Avg . Repurchase/Make Whole   Avg. Other Proceeds  \n",
       "[Year_Q3]                                                     \n",
       "2004                           68484.45              5287.44  \n",
       "2008                          131980.17              4851.51  \n",
       "2012                          153919.16              6517.94  \n",
       "2016                           12477.67              4569.47  "
      ]
     },
     "execution_count": 283,
     "metadata": {},
     "output_type": "execute_result"
    }
   ],
   "source": [
    "proc_summary"
   ]
  },
  {
   "cell_type": "code",
   "execution_count": 284,
   "metadata": {},
   "outputs": [
    {
     "data": {
      "text/html": [
       "<div>\n",
       "<style scoped>\n",
       "    .dataframe tbody tr th:only-of-type {\n",
       "        vertical-align: middle;\n",
       "    }\n",
       "\n",
       "    .dataframe tbody tr th {\n",
       "        vertical-align: top;\n",
       "    }\n",
       "\n",
       "    .dataframe thead th {\n",
       "        text-align: right;\n",
       "    }\n",
       "</style>\n",
       "<table border=\"1\" class=\"dataframe\">\n",
       "  <thead>\n",
       "    <tr style=\"text-align: right;\">\n",
       "      <th></th>\n",
       "      <th></th>\n",
       "      <th>Loan Count</th>\n",
       "    </tr>\n",
       "    <tr>\n",
       "      <th>[Year_Q3]</th>\n",
       "      <th>Loan Status</th>\n",
       "      <th></th>\n",
       "    </tr>\n",
       "  </thead>\n",
       "  <tbody>\n",
       "    <tr>\n",
       "      <td rowspan=\"3\" valign=\"top\">2004</td>\n",
       "      <td>Current</td>\n",
       "      <td>25349</td>\n",
       "    </tr>\n",
       "    <tr>\n",
       "      <td>Prepaid</td>\n",
       "      <td>345991</td>\n",
       "    </tr>\n",
       "    <tr>\n",
       "      <td>Underperforming</td>\n",
       "      <td>13260</td>\n",
       "    </tr>\n",
       "    <tr>\n",
       "      <td rowspan=\"3\" valign=\"top\">2008</td>\n",
       "      <td>Current</td>\n",
       "      <td>25552</td>\n",
       "    </tr>\n",
       "    <tr>\n",
       "      <td>Prepaid</td>\n",
       "      <td>306336</td>\n",
       "    </tr>\n",
       "    <tr>\n",
       "      <td>Underperforming</td>\n",
       "      <td>20474</td>\n",
       "    </tr>\n",
       "    <tr>\n",
       "      <td rowspan=\"3\" valign=\"top\">2012</td>\n",
       "      <td>Current</td>\n",
       "      <td>383469</td>\n",
       "    </tr>\n",
       "    <tr>\n",
       "      <td>Prepaid</td>\n",
       "      <td>330717</td>\n",
       "    </tr>\n",
       "    <tr>\n",
       "      <td>Underperforming</td>\n",
       "      <td>1015</td>\n",
       "    </tr>\n",
       "    <tr>\n",
       "      <td rowspan=\"3\" valign=\"top\">2016</td>\n",
       "      <td>Current</td>\n",
       "      <td>514376</td>\n",
       "    </tr>\n",
       "    <tr>\n",
       "      <td>Prepaid</td>\n",
       "      <td>108127</td>\n",
       "    </tr>\n",
       "    <tr>\n",
       "      <td>Underperforming</td>\n",
       "      <td>551</td>\n",
       "    </tr>\n",
       "  </tbody>\n",
       "</table>\n",
       "</div>"
      ],
      "text/plain": [
       "                           Loan Count\n",
       "[Year_Q3] Loan Status                \n",
       "2004      Current               25349\n",
       "          Prepaid              345991\n",
       "          Underperforming       13260\n",
       "2008      Current               25552\n",
       "          Prepaid              306336\n",
       "          Underperforming       20474\n",
       "2012      Current              383469\n",
       "          Prepaid              330717\n",
       "          Underperforming        1015\n",
       "2016      Current              514376\n",
       "          Prepaid              108127\n",
       "          Underperforming         551"
      ]
     },
     "execution_count": 284,
     "metadata": {},
     "output_type": "execute_result"
    }
   ],
   "source": [
    "status_summary"
   ]
  },
  {
   "cell_type": "code",
   "execution_count": 285,
   "metadata": {},
   "outputs": [
    {
     "data": {
      "text/html": [
       "<div>\n",
       "<style scoped>\n",
       "    .dataframe tbody tr th:only-of-type {\n",
       "        vertical-align: middle;\n",
       "    }\n",
       "\n",
       "    .dataframe tbody tr th {\n",
       "        vertical-align: top;\n",
       "    }\n",
       "\n",
       "    .dataframe thead th {\n",
       "        text-align: right;\n",
       "    }\n",
       "</style>\n",
       "<table border=\"1\" class=\"dataframe\">\n",
       "  <thead>\n",
       "    <tr style=\"text-align: right;\">\n",
       "      <th></th>\n",
       "      <th></th>\n",
       "      <th>Flag Count</th>\n",
       "    </tr>\n",
       "    <tr>\n",
       "      <th>[Year_Q3]</th>\n",
       "      <th>Modification Flag</th>\n",
       "      <th></th>\n",
       "    </tr>\n",
       "  </thead>\n",
       "  <tbody>\n",
       "    <tr>\n",
       "      <td rowspan=\"2\" valign=\"top\">2004</td>\n",
       "      <td>N</td>\n",
       "      <td>375067</td>\n",
       "    </tr>\n",
       "    <tr>\n",
       "      <td>Y</td>\n",
       "      <td>9533</td>\n",
       "    </tr>\n",
       "    <tr>\n",
       "      <td rowspan=\"2\" valign=\"top\">2008</td>\n",
       "      <td>N</td>\n",
       "      <td>336072</td>\n",
       "    </tr>\n",
       "    <tr>\n",
       "      <td>Y</td>\n",
       "      <td>16290</td>\n",
       "    </tr>\n",
       "    <tr>\n",
       "      <td rowspan=\"2\" valign=\"top\">2012</td>\n",
       "      <td>N</td>\n",
       "      <td>713144</td>\n",
       "    </tr>\n",
       "    <tr>\n",
       "      <td>Y</td>\n",
       "      <td>2057</td>\n",
       "    </tr>\n",
       "    <tr>\n",
       "      <td rowspan=\"2\" valign=\"top\">2016</td>\n",
       "      <td>N</td>\n",
       "      <td>620674</td>\n",
       "    </tr>\n",
       "    <tr>\n",
       "      <td>Y</td>\n",
       "      <td>2380</td>\n",
       "    </tr>\n",
       "  </tbody>\n",
       "</table>\n",
       "</div>"
      ],
      "text/plain": [
       "                             Flag Count\n",
       "[Year_Q3] Modification Flag            \n",
       "2004      N                      375067\n",
       "          Y                        9533\n",
       "2008      N                      336072\n",
       "          Y                       16290\n",
       "2012      N                      713144\n",
       "          Y                        2057\n",
       "2016      N                      620674\n",
       "          Y                        2380"
      ]
     },
     "execution_count": 285,
     "metadata": {},
     "output_type": "execute_result"
    }
   ],
   "source": [
    "modifi_summary"
   ]
  },
  {
   "cell_type": "code",
   "execution_count": null,
   "metadata": {},
   "outputs": [],
   "source": []
  }
 ],
 "metadata": {
  "kernelspec": {
   "display_name": "Python 3",
   "language": "python",
   "name": "python3"
  },
  "language_info": {
   "codemirror_mode": {
    "name": "ipython",
    "version": 3
   },
   "file_extension": ".py",
   "mimetype": "text/x-python",
   "name": "python",
   "nbconvert_exporter": "python",
   "pygments_lexer": "ipython3",
   "version": "3.7.4"
  }
 },
 "nbformat": 4,
 "nbformat_minor": 2
}
