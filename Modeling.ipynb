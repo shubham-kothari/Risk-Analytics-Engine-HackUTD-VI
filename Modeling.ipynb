{
 "cells": [
  {
   "cell_type": "code",
   "execution_count": 3,
   "metadata": {},
   "outputs": [],
   "source": [
    "# Loading required libraries\n",
    "\n",
    "import numpy as np\n",
    "import pandas as pd\n",
    "import matplotlib.pyplot as plt\n",
    "from sklearn.model_selection import StratifiedKFold, train_test_split\n",
    "from sklearn.metrics import confusion_matrix, cohen_kappa_score, classification_report\n",
    "from sklearn.metrics import r2_score, roc_auc_score, confusion_matrix\n",
    "from sklearn.metrics import average_precision_score, auc, roc_curve, precision_recall_curve\n",
    "\n",
    "from sklearn.tree import DecisionTreeClassifier\n",
    "from sklearn.ensemble import RandomForestClassifier\n",
    "from sklearn.linear_model import LogisticRegression\n",
    "from sklearn.neural_network import MLPClassifier\n",
    "from xgboost import XGBClassifier\n",
    "from lightgbm import LGBMClassifier\n",
    "\n",
    "from sklearn.preprocessing import StandardScaler\n",
    "import seaborn as sns\n",
    "from imblearn.over_sampling import SMOTE\n",
    "\n",
    "import gc\n",
    "import pickle as pkl\n",
    "\n",
    "%matplotlib inline\n",
    "sns.set(style='whitegrid', palette='inferno', font_scale=1.5)\n",
    "\n",
    "import warnings\n",
    "warnings.filterwarnings(action=\"ignore\")"
   ]
  },
  {
   "cell_type": "code",
   "execution_count": 9,
   "metadata": {},
   "outputs": [],
   "source": [
    "loan_data = pd.read_csv('RawData/processed_loan_origin.csv')"
   ]
  },
  {
   "cell_type": "code",
   "execution_count": 10,
   "metadata": {},
   "outputs": [],
   "source": [
    "loan_data['UPB'] = np.log1p(loan_data['UPB'])\n",
    "loan_data['target'] = loan_data['target'].map({'Moderate-Risk':1,'No-Risk':0,'High-Risk':1})\n",
    "cols = ['Channel','Origin_Year', 'Seller', 'Interest_Rate', 'UPB','LTV', 'Num_Borrowers', 'First_Time_Buyer',\n",
    "        'Loan_Purpose', 'LOAN AGE', 'FICO_bins', 'Term_bins', 'target']"
   ]
  },
  {
   "cell_type": "code",
   "execution_count": 11,
   "metadata": {},
   "outputs": [],
   "source": [
    "risk_data = loan_data[cols]\n",
    "risk_data = pd.get_dummies(risk_data)"
   ]
  },
  {
   "cell_type": "code",
   "execution_count": 12,
   "metadata": {},
   "outputs": [
    {
     "data": {
      "text/plain": [
       "<matplotlib.axes._subplots.AxesSubplot at 0x7fd6b6a5f2d0>"
      ]
     },
     "execution_count": 12,
     "metadata": {},
     "output_type": "execute_result"
    },
    {
     "data": {
      "image/png": "[encoded data removed]",
      "text/plain": [
       "<Figure size 864x432 with 1 Axes>"
      ]
     },
     "metadata": {},
     "output_type": "display_data"
    }
   ],
   "source": [
    "sns.set(rc={'figure.figsize':(12,6)})\n",
    "sns.countplot(risk_data['target'])"
   ]
  },
  {
   "cell_type": "code",
   "execution_count": 13,
   "metadata": {},
   "outputs": [],
   "source": [
    "X = risk_data.drop(['target'], axis = 1)\n",
    "\n",
    "y = risk_data['target']\n",
    "\n",
    "X_train, X_test, y_train, y_test = train_test_split(X, y, test_size=0.3, random_state=1210)"
   ]
  },
  {
   "cell_type": "code",
   "execution_count": 14,
   "metadata": {},
   "outputs": [],
   "source": [
    "def score(model, test = X_test, y_true = y_test):\n",
    "    \n",
    "    pred = model.predict(test)\n",
    "\n",
    "    print('Average precision-recall score RF:\\t', round(average_precision_score(y_true, pred),4)*100)\n",
    "    print()\n",
    "    print(\"Cohen's Kappa Score:\\t\",round(cohen_kappa_score(y_true,pred),4)*100)\n",
    "    print()\n",
    "    print(\"R-Squared Score:\\t\",round(r2_score(y_true,pred),4)*100)\n",
    "    print()\n",
    "    print(\"Area Under ROC Curve:\\t\",round(roc_auc_score(y_true,pred),4)*100)\n",
    "    print()\n",
    "    print(classification_report(y_true,pred)) \n",
    "    print()\n",
    "    print(confusion_matrix(y_true,pred)) \n",
    "    \n",
    "    fpr_rf, tpr_rf, _ = roc_curve(y_true, pred)\n",
    "    roc_auc_rf = auc(fpr_rf, tpr_rf)\n",
    "    plt.figure(figsize=(8,8))\n",
    "    plt.xlim([-0.01, 1.00])\n",
    "    plt.ylim([-0.01, 1.01])\n",
    "    plt.step(fpr_rf, tpr_rf, lw=1, label='{} curve (AUC = {:0.2f})'.format('RF',roc_auc_rf))\n",
    "    #plt.fill_between(fpr_rf, tpr_rf, step='post', alpha=0.2, color='b')\n",
    "\n",
    "\n",
    "    plt.xlabel('False Positive Rate', fontsize=16)\n",
    "    plt.ylabel('True Positive Rate', fontsize=16)\n",
    "    plt.title('ROC curve', fontsize=16)\n",
    "    plt.legend(loc='lower right', fontsize=13)\n",
    "    plt.plot([0, 1], [0, 1], color='navy', lw=1, linestyle='--')\n",
    "    plt.axes().set_aspect('equal')\n",
    "    plt.show()\n",
    "    \n",
    "def score_mclass(model, test = X_test, y_true = y_test):\n",
    "    \n",
    "    pred = model.predict(test)\n",
    "\n",
    "    print(\"R-Squared Score:\\t\",round(r2_score(y_true,pred),4)*100)\n",
    "    print()\n",
    "    print(classification_report(y_true,pred))\n",
    "    print()\n",
    "    feat_imp = pd.DataFrame(model.feature_importances_,index=X.columns,columns=['Feature Importance'])\n",
    "    top_feat = feat_imp.sort_values('Feature Importance',ascending=False).index[0:10]\n",
    "    print(\"Top 10 Features:\\n\",top_feat)"
   ]
  },
  {
   "cell_type": "code",
   "execution_count": 15,
   "metadata": {},
   "outputs": [
    {
     "data": {
      "text/plain": [
       "DecisionTreeClassifier(class_weight=None, criterion='gini', max_depth=None,\n",
       "                       max_features=None, max_leaf_nodes=None,\n",
       "                       min_impurity_decrease=0.0, min_impurity_split=None,\n",
       "                       min_samples_leaf=1, min_samples_split=2,\n",
       "                       min_weight_fraction_leaf=0.0, presort=False,\n",
       "                       random_state=None, splitter='best')"
      ]
     },
     "execution_count": 15,
     "metadata": {},
     "output_type": "execute_result"
    }
   ],
   "source": [
    "dtree = DecisionTreeClassifier()\n",
    "\n",
    "dtree.fit(X_train,y_train)"
   ]
  },
  {
   "cell_type": "code",
   "execution_count": 16,
   "metadata": {},
   "outputs": [
    {
     "name": "stdout",
     "output_type": "stream",
     "text": [
      "Average precision-recall score RF:\t 96.39999999999999\n",
      "\n",
      "Cohen's Kappa Score:\t 94.73\n",
      "\n",
      "R-Squared Score:\t 89.47\n",
      "\n",
      "Area Under ROC Curve:\t 97.34\n",
      "\n",
      "              precision    recall  f1-score   support\n",
      "\n",
      "           0       0.97      0.97      0.97    284932\n",
      "           1       0.97      0.98      0.98    337634\n",
      "\n",
      "    accuracy                           0.97    622566\n",
      "   macro avg       0.97      0.97      0.97    622566\n",
      "weighted avg       0.97      0.97      0.97    622566\n",
      "\n",
      "\n",
      "[[275828   9104]\n",
      " [  7170 330464]]\n"
     ]
    },
    {
     "data": {
      "image/png": "[encoded data removed]",
      "text/plain": [
       "<Figure size 576x576 with 1 Axes>"
      ]
     },
     "metadata": {},
     "output_type": "display_data"
    }
   ],
   "source": [
    "score(dtree)"
   ]
  },
  {
   "cell_type": "code",
   "execution_count": 17,
   "metadata": {},
   "outputs": [
    {
     "data": {
      "text/plain": [
       "RandomForestClassifier(bootstrap=True, class_weight={0: 2, 1: 1},\n",
       "                       criterion='gini', max_depth=None, max_features='auto',\n",
       "                       max_leaf_nodes=None, min_impurity_decrease=0.0,\n",
       "                       min_impurity_split=None, min_samples_leaf=1,\n",
       "                       min_samples_split=2, min_weight_fraction_leaf=0.0,\n",
       "                       n_estimators=10, n_jobs=None, oob_score=False,\n",
       "                       random_state=None, verbose=0, warm_start=False)"
      ]
     },
     "execution_count": 17,
     "metadata": {},
     "output_type": "execute_result"
    }
   ],
   "source": [
    "rf = RandomForestClassifier(class_weight={0:2,1:1})\n",
    "\n",
    "rf.fit(X_train,y_train)"
   ]
  },
  {
   "cell_type": "code",
   "execution_count": 18,
   "metadata": {},
   "outputs": [
    {
     "name": "stdout",
     "output_type": "stream",
     "text": [
      "Average precision-recall score RF:\t 98.59\n",
      "\n",
      "Cohen's Kappa Score:\t 97.08\n",
      "\n",
      "R-Squared Score:\t 94.15\n",
      "\n",
      "Area Under ROC Curve:\t 98.63\n",
      "\n",
      "              precision    recall  f1-score   support\n",
      "\n",
      "           0       0.97      1.00      0.98    284932\n",
      "           1       1.00      0.98      0.99    337634\n",
      "\n",
      "    accuracy                           0.99    622566\n",
      "   macro avg       0.98      0.99      0.99    622566\n",
      "weighted avg       0.99      0.99      0.99    622566\n",
      "\n",
      "\n",
      "[[283775   1157]\n",
      " [  7883 329751]]\n"
     ]
    },
    {
     "data": {
      "image/png": "[encoded data removed]",
      "text/plain": [
       "<Figure size 576x576 with 1 Axes>"
      ]
     },
     "metadata": {},
     "output_type": "display_data"
    }
   ],
   "source": [
    "score(rf)"
   ]
  },
  {
   "cell_type": "code",
   "execution_count": 21,
   "metadata": {},
   "outputs": [],
   "source": [
    "with open('rf_model.pkl','wb') as model:\n",
    "    pkl.dump(rf,model)"
   ]
  },
  {
   "cell_type": "code",
   "execution_count": 146,
   "metadata": {},
   "outputs": [],
   "source": [
    "with open('lgbm_model.pkl','rb') as model:\n",
    "    lgbm = pkl.load(model)"
   ]
  },
  {
   "cell_type": "code",
   "execution_count": 28,
   "metadata": {},
   "outputs": [],
   "source": [
    "from sklearn2pmml import PMMLPipeline\n",
    "from sklearn2pmml import sklearn2pmml"
   ]
  },
  {
   "cell_type": "code",
   "execution_count": 23,
   "metadata": {},
   "outputs": [
    {
     "data": {
      "text/plain": [
       "PMMLPipeline(steps=[('clf', RandomForestClassifier(bootstrap=True, class_weight={0: 2, 1: 1},\n",
       "                       criterion='gini', max_depth=None, max_features='auto',\n",
       "                       max_leaf_nodes=None, min_impurity_decrease=0.0,\n",
       "                       min_impurity_split=None, min_samples_leaf=1,\n",
       "                       min_samples_split=2, min_weight_fraction_leaf=0.0,\n",
       "                       n_estimators=10, n_jobs=None, oob_score=False,\n",
       "                       random_state=None, verbose=0, warm_start=False))])"
      ]
     },
     "execution_count": 23,
     "metadata": {},
     "output_type": "execute_result"
    }
   ],
   "source": [
    "pl = PMMLPipeline([('clf', RandomForestClassifier(class_weight={0:2,1:1}))])\n",
    "\n",
    "pl.fit(X_train,y_train)"
   ]
  },
  {
   "cell_type": "code",
   "execution_count": 32,
   "metadata": {},
   "outputs": [],
   "source": [
    "pl.target_field=\"target\"\n",
    "pl.active_fields=np.array(X_train.columns)"
   ]
  },
  {
   "cell_type": "code",
   "execution_count": 34,
   "metadata": {},
   "outputs": [],
   "source": [
    "sklearn2pmml(pl, 'RandomForest.pmml', with_repr=True)"
   ]
  }
 ],
 "metadata": {
  "kernelspec": {
   "display_name": "Python 3",
   "language": "python",
   "name": "python3"
  },
  "language_info": {
   "codemirror_mode": {
    "name": "ipython",
    "version": 3
   },
   "file_extension": ".py",
   "mimetype": "text/x-python",
   "name": "python",
   "nbconvert_exporter": "python",
   "pygments_lexer": "ipython3",
   "version": "3.7.4"
  }
 },
 "nbformat": 4,
 "nbformat_minor": 2
}
